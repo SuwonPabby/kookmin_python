{
 "cells": [
  {
   "cell_type": "markdown",
   "metadata": {},
   "source": [
    "## 세 가지 복사의 종류\n",
    "\n",
    "- 일반 대입\n",
    "- Copy\n",
    "- DeepCopy\n",
    "\n",
    "-> Python의 원리를 알면 이해 가능!\n"
   ]
  },
  {
   "cell_type": "markdown",
   "metadata": {},
   "source": [
    "## 일반 대입\n"
   ]
  },
  {
   "cell_type": "code",
   "execution_count": 2,
   "metadata": {},
   "outputs": [
    {
     "name": "stdout",
     "output_type": "stream",
     "text": [
      "4\n"
     ]
    }
   ],
   "source": [
    "import copy\n",
    "a = [1, 2, 3]\n",
    "b = a\n",
    "\n",
    "b[0] = 4\n",
    "print(a[0])  # 4 -> 왜 4가 나오는지 설명할 수 있나요?"
   ]
  },
  {
   "cell_type": "markdown",
   "metadata": {},
   "source": [
    "## Copy\n"
   ]
  },
  {
   "cell_type": "code",
   "execution_count": 3,
   "metadata": {},
   "outputs": [
    {
     "name": "stdout",
     "output_type": "stream",
     "text": [
      "1\n"
     ]
    }
   ],
   "source": [
    "# 이미 위 셀에서 copy 모듈을 import 했으므로\n",
    "# 여기에서는 윗 셀을 실행시켰다면 다시 import 할 필요 없음\n",
    "\n",
    "a = [1, 2, 3]\n",
    "b = copy.copy(a)\n",
    "\n",
    "b[0] = 4\n",
    "print(a[0])  # 1 -> 왜 1이 나오는지 설명할 수 있나요?"
   ]
  },
  {
   "cell_type": "markdown",
   "metadata": {},
   "source": [
    "## Copy의 문제점\n"
   ]
  },
  {
   "cell_type": "code",
   "execution_count": 4,
   "metadata": {},
   "outputs": [
    {
     "name": "stdout",
     "output_type": "stream",
     "text": [
      "100\n"
     ]
    }
   ],
   "source": [
    "a = [[1, 2], [3, 4]]\n",
    "b = copy.copy(a)\n",
    "a[0][0] = 100\n",
    "print(b[0][0])  # 100 -> 왜 100이 나오는지 설명할 수 있나요?"
   ]
  },
  {
   "cell_type": "markdown",
   "metadata": {},
   "source": [
    "## 이를 해결할 수 있는 Deep Copy\n"
   ]
  },
  {
   "cell_type": "code",
   "execution_count": 5,
   "metadata": {},
   "outputs": [
    {
     "name": "stdout",
     "output_type": "stream",
     "text": [
      "1\n"
     ]
    }
   ],
   "source": [
    "a = [[1, 2], [3, 4]]\n",
    "b = copy.deepcopy(a)\n",
    "a[0][0] = 100\n",
    "print(b[0][0])  # 1 -> 왜 1이 나오는지 설명할 수 있나요?"
   ]
  }
 ],
 "metadata": {
  "kernelspec": {
   "display_name": "kookmin_data",
   "language": "python",
   "name": "python3"
  },
  "language_info": {
   "codemirror_mode": {
    "name": "ipython",
    "version": 3
   },
   "file_extension": ".py",
   "mimetype": "text/x-python",
   "name": "python",
   "nbconvert_exporter": "python",
   "pygments_lexer": "ipython3",
   "version": "3.12.2"
  }
 },
 "nbformat": 4,
 "nbformat_minor": 2
}
