{
 "cells": [
  {
   "cell_type": "code",
   "execution_count": 3,
   "metadata": {},
   "outputs": [
    {
     "name": "stdout",
     "output_type": "stream",
     "text": [
      "4.1\n"
     ]
    }
   ],
   "source": [
    "a = 3\n",
    "a = 4.1\n",
    "print(a)"
   ]
  },
  {
   "cell_type": "markdown",
   "metadata": {},
   "source": [
    "## 리스트에 문자열 넣어서 출력하기\n"
   ]
  },
  {
   "cell_type": "code",
   "execution_count": 13,
   "metadata": {},
   "outputs": [
    {
     "name": "stdout",
     "output_type": "stream",
     "text": [
      "['나는 국민대학교에 왔습니다.\\n그리고 나는 파이썬 교육중입니다.', '나는 서울과학기술대학교에 왔습니다.\\n그리고 나는 파이썬 교육중입니다.', '나는 하버드대학교에 왔습니다.\\n그리고 나는 파이썬 교육중입니다.']\n"
     ]
    }
   ],
   "source": [
    "universities = [\"국민대학교\", \"서울과학기술대학교\", \"하버드대학교\"]\n",
    "result = []\n",
    "\n",
    "for university in universities:\n",
    "    result.append(f\"나는 {university}에 왔습니다.\\n그리고 나는 파이썬 교육중입니다.\")\n",
    "\n",
    "print(result)"
   ]
  },
  {
   "cell_type": "markdown",
   "metadata": {},
   "source": [
    "## List Comprehension\n"
   ]
  },
  {
   "cell_type": "code",
   "execution_count": 14,
   "metadata": {},
   "outputs": [
    {
     "data": {
      "text/plain": [
       "['나는 국민대학교에 왔습니다.\\n그리고 나는 파이썬 교육중입니다.', '나는 하버드대학교에 왔습니다.\\n그리고 나는 파이썬 교육중입니다.']"
      ]
     },
     "execution_count": 14,
     "metadata": {},
     "output_type": "execute_result"
    }
   ],
   "source": [
    "result = [\n",
    "    # 집합 조건 제시법\n",
    "    f\"나는 {university}에 왔습니다.\\n그리고 나는 파이썬 교육중입니다.\" for university in universities]\n",
    "result = [\n",
    "    f\"나는 {university}에 왔습니다.\\n그리고 나는 파이썬 교육중입니다.\" for university in universities if university != \"서울과학기술대학교\"]\n",
    "\n",
    "result"
   ]
  },
  {
   "cell_type": "code",
   "execution_count": 22,
   "metadata": {},
   "outputs": [
    {
     "data": {
      "text/plain": [
       "'나는 하버드대학교에 왔습니다.\\n그리고 나는 파이썬 교육중입니다.'"
      ]
     },
     "execution_count": 22,
     "metadata": {},
     "output_type": "execute_result"
    }
   ],
   "source": [
    "result[-1]"
   ]
  },
  {
   "cell_type": "code",
   "execution_count": 28,
   "metadata": {},
   "outputs": [
    {
     "name": "stdout",
     "output_type": "stream",
     "text": [
      "4347634584\n",
      "4347634744\n"
     ]
    }
   ],
   "source": [
    "p = [[3, 1], [4, 2], [6, 1]]\n",
    "print(id(p[0][1]))\n",
    "print(id(p[2][0]))"
   ]
  }
 ],
 "metadata": {
  "kernelspec": {
   "display_name": "Python 3",
   "language": "python",
   "name": "python3"
  },
  "language_info": {
   "codemirror_mode": {
    "name": "ipython",
    "version": 3
   },
   "file_extension": ".py",
   "mimetype": "text/x-python",
   "name": "python",
   "nbconvert_exporter": "python",
   "pygments_lexer": "ipython3",
   "version": "3.11.2"
  }
 },
 "nbformat": 4,
 "nbformat_minor": 2
}
