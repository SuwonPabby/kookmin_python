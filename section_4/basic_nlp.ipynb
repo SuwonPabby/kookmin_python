{
 "cells": [
  {
   "cell_type": "code",
   "execution_count": 42,
   "metadata": {},
   "outputs": [
    {
     "data": {
      "text/plain": [
       "3"
      ]
     },
     "execution_count": 42,
     "metadata": {},
     "output_type": "execute_result"
    }
   ],
   "source": [
    "import re\n",
    "\n",
    "# 정규 표현식으로 이메일 형식 찾기\n",
    "email_regex = re.compile(r'[a-zA-Z0-9._-]+@[a-zA-Z0-9.-]+\\.[a-zA-Z]{2,}')\n",
    "\n",
    "# 검사할 예시 문자열 리스트\n",
    "examples = [\n",
    "    \"hello@world.com\",\n",
    "    \"invalid-email\",\n",
    "    \"test_email@gmail.com\",\n",
    "    \"another.test@domain.co.uk\",\n",
    "    \"noemailhere\"\n",
    "]\n",
    "\n",
    "# 이메일 형태를 가진 문자열 찾기\n",
    "email_count = sum(bool(email_regex.match(example)) for example in examples)\n",
    "\n",
    "email_count"
   ]
  },
  {
   "cell_type": "code",
   "execution_count": 43,
   "metadata": {},
   "outputs": [
    {
     "name": "stdout",
     "output_type": "stream",
     "text": [
      "Sometextwithvarioussymbols!Andspaces...\n"
     ]
    }
   ],
   "source": [
    "import re\n",
    "\n",
    "\n",
    "def remove_spaces_and_symbols(text):\n",
    "    # 공백, 하이픈 포함하여 기타 기호 제거\n",
    "    # \\s는 모든 공백 문자, -는 하이픈을 나타냄\n",
    "    # 추가적으로 제거하고 싶은 기호가 있다면 [] 안에 추가\n",
    "    cleaned_text = re.sub(r'[\\s\\-]+', '', text)\n",
    "    return cleaned_text\n",
    "\n",
    "\n",
    "# 예시\n",
    "text_example = \"Some text - with various symbols! And spaces...\"\n",
    "cleaned_text = remove_spaces_and_symbols(text_example)\n",
    "print(cleaned_text)"
   ]
  },
  {
   "cell_type": "code",
   "execution_count": 46,
   "metadata": {},
   "outputs": [
    {
     "name": "stdout",
     "output_type": "stream",
     "text": [
      "돈까스\n",
      "돈까스\n",
      "돈까스\n"
     ]
    }
   ],
   "source": [
    "vocab_dict = {\"돈가스\": \"돈까스\", \"경양식돈가스\": \"돈까스\", \"경양식돈까스\": \"돈까스\"}\n",
    "\n",
    "samples = [\"돈가스\", \"우동\", \"라면\"]\n",
    "for idx, sample in enumerate(samples):\n",
    "    if vocab_dict.get(sample) != None:\n",
    "        samples[idx] = vocab_dict[sample]"
   ]
  }
 ],
 "metadata": {
  "kernelspec": {
   "display_name": "kookmin_data",
   "language": "python",
   "name": "python3"
  },
  "language_info": {
   "codemirror_mode": {
    "name": "ipython",
    "version": 3
   },
   "file_extension": ".py",
   "mimetype": "text/x-python",
   "name": "python",
   "nbconvert_exporter": "python",
   "pygments_lexer": "ipython3",
   "version": "3.12.2"
  }
 },
 "nbformat": 4,
 "nbformat_minor": 2
}
